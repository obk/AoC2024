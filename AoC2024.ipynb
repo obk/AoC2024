{
 "cells": [
  {
   "cell_type": "code",
   "execution_count": 1,
   "metadata": {},
   "outputs": [
    {
     "name": "stdout",
     "output_type": "stream",
     "text": [
      "Sum of absolute differences: 2176849\n",
      "Weighted sum: 23384288\n"
     ]
    }
   ],
   "source": [
    "# Read the input from the file and split it into rows of integers\n",
    "with open('./inputs/1.txt', 'r') as file:\n",
    "    rows = [list(map(int, line.split())) for line in file.read().splitlines()]\n",
    "\n",
    "# Transpose the rows to columns\n",
    "columns = list(map(list, zip(*rows)))\n",
    "\n",
    "# Sort each column\n",
    "for column in columns:\n",
    "    column.sort()\n",
    "\n",
    "# Calculate the sum of absolute differences between corresponding elements in the columns\n",
    "total_abs_difference = sum(abs(x - y) for x, y in zip(*columns))\n",
    "print(\"Sum of absolute differences:\", total_abs_difference)\n",
    "\n",
    "# Separate the columns back into individual lists\n",
    "left_column, right_column = map(list, zip(*rows))\n",
    "\n",
    "# Calculate the weighted sum of the left column using counts from the right column\n",
    "weighted_sum = sum(value * right_column.count(value) for value in left_column)\n",
    "print(\"Weighted sum:\", weighted_sum)\n"
   ]
  },
  {
   "cell_type": "code",
   "execution_count": 6,
   "metadata": {},
   "outputs": [
    {
     "name": "stdout",
     "output_type": "stream",
     "text": [
      "Safe sequence count (Part 1): 299\n",
      "Modifiable safe sequence count (Part 2): 364\n"
     ]
    }
   ],
   "source": [
    "def is_safe_sequence(levels):\n",
    "    # Calculate differences between consecutive levels\n",
    "    differences = [x - y for x, y in zip(levels, levels[1:])]\n",
    "    # Check if all differences are within the range 1 to 3 or -1 to -3\n",
    "    return all(1 <= diff <= 3 for diff in differences) or all(-1 >= diff >= -3 for diff in differences)\n",
    "\n",
    "# Part 1: Count sequences that are safe\n",
    "safe_sequence_count = 0\n",
    "with open('./inputs/2.txt', 'r') as file:\n",
    "    for report in file:\n",
    "        levels = list(map(int, report.split()))\n",
    "        if is_safe_sequence(levels):\n",
    "            safe_sequence_count += 1\n",
    "print(\"Safe sequence count (Part 1):\", safe_sequence_count)\n",
    "\n",
    "# Part 2: Count sequences that can be made safe by removing one element\n",
    "modifiable_safe_sequence_count = 0\n",
    "with open('./inputs/2.txt', 'r') as file:\n",
    "    for report in file:\n",
    "        levels = list(map(int, report.split()))\n",
    "        # Check if removing any single element results in a safe sequence\n",
    "        if any(is_safe_sequence(levels[:index] + levels[index + 1:]) for index in range(len(levels))):\n",
    "            modifiable_safe_sequence_count += 1\n",
    "print(\"Modifiable safe sequence count (Part 2):\", modifiable_safe_sequence_count)"
   ]
  }
 ],
 "metadata": {
  "kernelspec": {
   "display_name": "base",
   "language": "python",
   "name": "python3"
  },
  "language_info": {
   "codemirror_mode": {
    "name": "ipython",
    "version": 3
   },
   "file_extension": ".py",
   "mimetype": "text/x-python",
   "name": "python",
   "nbconvert_exporter": "python",
   "pygments_lexer": "ipython3",
   "version": "3.13.0"
  }
 },
 "nbformat": 4,
 "nbformat_minor": 2
}

{
 "cells": [
  {
   "cell_type": "code",
   "execution_count": 1,
   "metadata": {},
   "outputs": [
    {
     "name": "stdout",
     "output_type": "stream",
     "text": [
      "Sum of absolute differences: 2176849\n",
      "Weighted sum: 23384288\n"
     ]
    }
   ],
   "source": [
    "# Read the input from the file and split it into rows of integers\n",
    "with open('./inputs/1.txt', 'r') as file:\n",
    "    rows = [list(map(int, line.split())) for line in file.read().splitlines()]\n",
    "\n",
    "# Transpose the rows to columns\n",
    "columns = list(map(list, zip(*rows)))\n",
    "\n",
    "# Sort each column\n",
    "for column in columns:\n",
    "    column.sort()\n",
    "\n",
    "# Calculate the sum of absolute differences between corresponding elements in the columns\n",
    "total_abs_difference = sum(abs(x - y) for x, y in zip(*columns))\n",
    "print(\"Sum of absolute differences:\", total_abs_difference)\n",
    "\n",
    "# Separate the columns back into individual lists\n",
    "left_column, right_column = map(list, zip(*rows))\n",
    "\n",
    "# Calculate the weighted sum of the left column using counts from the right column\n",
    "weighted_sum = sum(value * right_column.count(value) for value in left_column)\n",
    "print(\"Weighted sum:\", weighted_sum)\n"
   ]
  },
  {
   "cell_type": "code",
   "execution_count": null,
   "metadata": {},
   "outputs": [],
   "source": []
  }
 ],
 "metadata": {
  "kernelspec": {
   "display_name": "base",
   "language": "python",
   "name": "python3"
  },
  "language_info": {
   "codemirror_mode": {
    "name": "ipython",
    "version": 3
   },
   "file_extension": ".py",
   "mimetype": "text/x-python",
   "name": "python",
   "nbconvert_exporter": "python",
   "pygments_lexer": "ipython3",
   "version": "3.12.3"
  }
 },
 "nbformat": 4,
 "nbformat_minor": 2
}

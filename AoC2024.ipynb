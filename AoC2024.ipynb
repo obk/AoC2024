{
 "cells": [
  {
   "cell_type": "code",
   "execution_count": 1,
   "metadata": {},
   "outputs": [
    {
     "name": "stdout",
     "output_type": "stream",
     "text": [
      "Sum of absolute differences: 2176849\n",
      "Weighted sum: 23384288\n"
     ]
    }
   ],
   "source": [
    "# Read the input from the file and split it into rows of integers\n",
    "with open('./inputs/1.txt', 'r') as file:\n",
    "    rows = [list(map(int, line.split())) for line in file.read().splitlines()]\n",
    "\n",
    "# Transpose the rows to columns\n",
    "columns = list(map(list, zip(*rows)))\n",
    "\n",
    "# Sort each column\n",
    "for column in columns:\n",
    "    column.sort()\n",
    "\n",
    "# Calculate the sum of absolute differences between corresponding elements in the columns\n",
    "total_abs_difference = sum(abs(x - y) for x, y in zip(*columns))\n",
    "print(\"Sum of absolute differences:\", total_abs_difference)\n",
    "\n",
    "# Separate the columns back into individual lists\n",
    "left_column, right_column = map(list, zip(*rows))\n",
    "\n",
    "# Calculate the weighted sum of the left column using counts from the right column\n",
    "weighted_sum = sum(value * right_column.count(value) for value in left_column)\n",
    "print(\"Weighted sum:\", weighted_sum)\n"
   ]
  },
  {
   "cell_type": "code",
   "execution_count": 2,
   "metadata": {},
   "outputs": [
    {
     "name": "stdout",
     "output_type": "stream",
     "text": [
      "Safe sequence count (Part 1): 299\n",
      "Modifiable safe sequence count (Part 2): 364\n"
     ]
    }
   ],
   "source": [
    "def is_safe_sequence(levels):\n",
    "    # Calculate differences between consecutive levels\n",
    "    differences = [x - y for x, y in zip(levels, levels[1:])]\n",
    "    # Check if all differences are within the range 1 to 3 or -1 to -3\n",
    "    return all(1 <= diff <= 3 for diff in differences) or all(-1 >= diff >= -3 for diff in differences)\n",
    "\n",
    "# Part 1: Count sequences that are safe\n",
    "safe_sequence_count = 0\n",
    "with open('./inputs/2.txt', 'r') as file:\n",
    "    for report in file:\n",
    "        levels = list(map(int, report.split()))\n",
    "        if is_safe_sequence(levels):\n",
    "            safe_sequence_count += 1\n",
    "print(\"Safe sequence count (Part 1):\", safe_sequence_count)\n",
    "\n",
    "# Part 2: Count sequences that can be made safe by removing one element\n",
    "modifiable_safe_sequence_count = 0\n",
    "with open('./inputs/2.txt', 'r') as file:\n",
    "    for report in file:\n",
    "        levels = list(map(int, report.split()))\n",
    "        # Check if removing any single element results in a safe sequence\n",
    "        if any(is_safe_sequence(levels[:index] + levels[index + 1:]) for index in range(len(levels))):\n",
    "            modifiable_safe_sequence_count += 1\n",
    "print(\"Modifiable safe sequence count (Part 2):\", modifiable_safe_sequence_count)"
   ]
  },
  {
   "cell_type": "code",
   "execution_count": 3,
   "metadata": {},
   "outputs": [
    {
     "name": "stdout",
     "output_type": "stream",
     "text": [
      "Part 1 - Sum of multiplication results: 159833790\n",
      "Part 2 - Sum of multiplication results: 89349241\n"
     ]
    }
   ],
   "source": [
    "import re\n",
    "\n",
    "def parse_mul_instructions(memory_input, part):\n",
    "    # Regex patterns for different instructions\n",
    "    mul_pattern = r'mul\\((\\d{1,3})\\s*,\\s*(\\d{1,3})\\)'\n",
    "    do_pattern = r'do\\(\\)'\n",
    "    dont_pattern = r'don\\'*t\\(\\)'\n",
    "    \n",
    "    # Track multiplication state\n",
    "    mul_enabled = True\n",
    "    total_sum = 0\n",
    "    \n",
    "    # Find all instructions in order\n",
    "    mul_matches = list(re.finditer(mul_pattern, memory_input))\n",
    "    if part == 2:\n",
    "        do_matches = list(re.finditer(do_pattern, memory_input))\n",
    "        dont_matches = list(re.finditer(dont_pattern, memory_input))\n",
    "        all_matches = sorted(\n",
    "            mul_matches + do_matches + dont_matches, \n",
    "            key=lambda x: x.start()\n",
    "        )\n",
    "    else:\n",
    "        all_matches = mul_matches\n",
    "    \n",
    "    # Process instructions in order\n",
    "    for match in all_matches:\n",
    "        if part == 2:\n",
    "            if match.group() == 'do()':\n",
    "                mul_enabled = True\n",
    "            elif match.group() == \"don't()\":\n",
    "                mul_enabled = False\n",
    "        \n",
    "        if match.group().startswith('mul(') and mul_enabled:\n",
    "            x, y = match.groups()\n",
    "            total_sum += int(x) * int(y)\n",
    "    \n",
    "    return total_sum\n",
    "\n",
    "def main():\n",
    "    # Read the input from a text file\n",
    "    try:\n",
    "        with open('./inputs/3.txt', 'r') as file:\n",
    "            memory_input = file.read().strip()\n",
    "        \n",
    "        # Calculate the sum of multiplication results for Part 1\n",
    "        result_part1 = parse_mul_instructions(memory_input, part=1)\n",
    "        print(f\"Part 1 - Sum of multiplication results: {result_part1}\")\n",
    "        \n",
    "        # Calculate the sum of multiplication results for Part 2\n",
    "        result_part2 = parse_mul_instructions(memory_input, part=2)\n",
    "        print(f\"Part 2 - Sum of multiplication results: {result_part2}\")\n",
    "    \n",
    "    except FileNotFoundError:\n",
    "        print(\"Error: 'corrupted_memory.txt' file not found.\")\n",
    "    except Exception as e:\n",
    "        print(f\"An error occurred: {e}\")\n",
    "\n",
    "if __name__ == \"__main__\":\n",
    "    main()"
   ]
  }
 ],
 "metadata": {
  "kernelspec": {
   "display_name": "base",
   "language": "python",
   "name": "python3"
  },
  "language_info": {
   "codemirror_mode": {
    "name": "ipython",
    "version": 3
   },
   "file_extension": ".py",
   "mimetype": "text/x-python",
   "name": "python",
   "nbconvert_exporter": "python",
   "pygments_lexer": "ipython3",
   "version": "3.13.0"
  }
 },
 "nbformat": 4,
 "nbformat_minor": 2
}
